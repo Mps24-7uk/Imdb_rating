{
 "cells": [
  {
   "cell_type": "code",
   "execution_count": 1,
   "metadata": {
    "collapsed": true
   },
   "outputs": [],
   "source": [
    "from selenium import webdriver\n",
    "from bs4 import BeautifulSoup\n",
    "import pandas as pd"
   ]
  },
  {
   "cell_type": "code",
   "execution_count": 70,
   "metadata": {
    "collapsed": true
   },
   "outputs": [],
   "source": [
    "class movie():\n",
    "    def __init__(self):\n",
    "        self.rank=\"\"\n",
    "        self.title=\"\"\n",
    "        self.year=\"\"\n",
    "        self.link=\"\"\n",
    "        self.image=\"\""
   ]
  },
  {
   "cell_type": "code",
   "execution_count": 82,
   "metadata": {
    "collapsed": true
   },
   "outputs": [],
   "source": [
    "def get_film_list():\n",
    "    driver = webdriver.Chrome(executable_path='C:\\chromedriver_win32\\chromedriver.exe')\n",
    "    driver.get(\"http://www.imdb.com/chart/top?ref_=nv_mv_250_6\")\n",
    "    soup5=BeautifulSoup(driver.page_source,'lxml')    \n",
    "    table=soup5.find('table',class_=\"chart full-width\")\n",
    "    movie_list=[]\n",
    "    for td in table.find_all('td',class_=\"titleColumn\"):\n",
    "        new_film=movie()\n",
    "        new_film.rank=td.text.strip().replace('\\n',' ').replace('  ','').split('.')[0]\n",
    "        new_film.title=td.text.strip().replace('\\n',' ').replace('  ','').split('.')[1].split('(')[0].strip()\n",
    "        new_film.year=td.text.strip().replace('\\n',' ').replace('  ','').split('(')[1].replace(')','')\n",
    "        a=td.find('a')\n",
    "        new_film.link=\"http://www.imdb.com\"+a['href']\n",
    "        movie_list.append(new_film)\n",
    "    driver.close()\n",
    "    return movie_list\n",
    "\n"
   ]
  },
  {
   "cell_type": "code",
   "execution_count": 89,
   "metadata": {
    "collapsed": true
   },
   "outputs": [],
   "source": [
    "mov_List=get_film_list()\n"
   ]
  },
  {
   "cell_type": "code",
   "execution_count": 91,
   "metadata": {},
   "outputs": [],
   "source": [
    "def get_detail_movie(film_List):\n",
    "       \n",
    "    driver1 = webdriver.Chrome(executable_path='C:\\chromedriver_win32\\chromedriver.exe')\n",
    "    for film in film_List[0:5]: \n",
    "        driver1.get(film.link) \n",
    "        soup4=BeautifulSoup(driver1.page_source,'lxml')    \n",
    "        table=soup4.find('div',class_=\"poster\")\n",
    "        image=table.find('img')\n",
    "        film.image=image['src']\n",
    "    driver1.close()\n",
    "    return film_List "
   ]
  },
  {
   "cell_type": "code",
   "execution_count": 92,
   "metadata": {},
   "outputs": [],
   "source": [
    "film_L=get_detail_movie(mov_List)"
   ]
  },
  {
   "cell_type": "code",
   "execution_count": 109,
   "metadata": {
    "collapsed": true
   },
   "outputs": [],
   "source": [
    "Best_Movies=pd.DataFrame(columns=['Rank','Title','Year','Link','Image'])"
   ]
  },
  {
   "cell_type": "code",
   "execution_count": 110,
   "metadata": {},
   "outputs": [],
   "source": [
    "for all_detail in film_L[0:5]:\n",
    "    Best_Movies=Best_Movies.append(pd.Series([all_detail.rank,all_detail.title,all_detail.year,all_detail.image,all_detail.link], ['Rank','Title','Year','Link','Image']), ignore_index=True)  \n"
   ]
  },
  {
   "cell_type": "code",
   "execution_count": 111,
   "metadata": {},
   "outputs": [
    {
     "data": {
      "text/html": [
       "<div>\n",
       "<style>\n",
       "    .dataframe thead tr:only-child th {\n",
       "        text-align: right;\n",
       "    }\n",
       "\n",
       "    .dataframe thead th {\n",
       "        text-align: left;\n",
       "    }\n",
       "\n",
       "    .dataframe tbody tr th {\n",
       "        vertical-align: top;\n",
       "    }\n",
       "</style>\n",
       "<table border=\"1\" class=\"dataframe\">\n",
       "  <thead>\n",
       "    <tr style=\"text-align: right;\">\n",
       "      <th></th>\n",
       "      <th>Rank</th>\n",
       "      <th>Title</th>\n",
       "      <th>Year</th>\n",
       "      <th>Link</th>\n",
       "      <th>Image</th>\n",
       "    </tr>\n",
       "  </thead>\n",
       "  <tbody>\n",
       "    <tr>\n",
       "      <th>0</th>\n",
       "      <td>1</td>\n",
       "      <td>The Shawshank Redemption</td>\n",
       "      <td>1994</td>\n",
       "      <td>https://images-na.ssl-images-amazon.com/images...</td>\n",
       "      <td>http://www.imdb.com/title/tt0111161/?pf_rd_m=A...</td>\n",
       "    </tr>\n",
       "    <tr>\n",
       "      <th>1</th>\n",
       "      <td>2</td>\n",
       "      <td>The Godfather</td>\n",
       "      <td>1972</td>\n",
       "      <td>https://images-na.ssl-images-amazon.com/images...</td>\n",
       "      <td>http://www.imdb.com/title/tt0068646/?pf_rd_m=A...</td>\n",
       "    </tr>\n",
       "    <tr>\n",
       "      <th>2</th>\n",
       "      <td>3</td>\n",
       "      <td>The Godfather: Part II</td>\n",
       "      <td>1974</td>\n",
       "      <td>https://images-na.ssl-images-amazon.com/images...</td>\n",
       "      <td>http://www.imdb.com/title/tt0071562/?pf_rd_m=A...</td>\n",
       "    </tr>\n",
       "    <tr>\n",
       "      <th>3</th>\n",
       "      <td>4</td>\n",
       "      <td>The Dark Knight</td>\n",
       "      <td>2008</td>\n",
       "      <td>https://images-na.ssl-images-amazon.com/images...</td>\n",
       "      <td>http://www.imdb.com/title/tt0468569/?pf_rd_m=A...</td>\n",
       "    </tr>\n",
       "    <tr>\n",
       "      <th>4</th>\n",
       "      <td>5</td>\n",
       "      <td>12 Angry Men</td>\n",
       "      <td>1957</td>\n",
       "      <td>https://images-na.ssl-images-amazon.com/images...</td>\n",
       "      <td>http://www.imdb.com/title/tt0050083/?pf_rd_m=A...</td>\n",
       "    </tr>\n",
       "  </tbody>\n",
       "</table>\n",
       "</div>"
      ],
      "text/plain": [
       "  Rank                     Title  Year  \\\n",
       "0    1  The Shawshank Redemption  1994   \n",
       "1    2             The Godfather  1972   \n",
       "2    3    The Godfather: Part II  1974   \n",
       "3    4           The Dark Knight  2008   \n",
       "4    5              12 Angry Men  1957   \n",
       "\n",
       "                                                Link  \\\n",
       "0  https://images-na.ssl-images-amazon.com/images...   \n",
       "1  https://images-na.ssl-images-amazon.com/images...   \n",
       "2  https://images-na.ssl-images-amazon.com/images...   \n",
       "3  https://images-na.ssl-images-amazon.com/images...   \n",
       "4  https://images-na.ssl-images-amazon.com/images...   \n",
       "\n",
       "                                               Image  \n",
       "0  http://www.imdb.com/title/tt0111161/?pf_rd_m=A...  \n",
       "1  http://www.imdb.com/title/tt0068646/?pf_rd_m=A...  \n",
       "2  http://www.imdb.com/title/tt0071562/?pf_rd_m=A...  \n",
       "3  http://www.imdb.com/title/tt0468569/?pf_rd_m=A...  \n",
       "4  http://www.imdb.com/title/tt0050083/?pf_rd_m=A...  "
      ]
     },
     "execution_count": 111,
     "metadata": {},
     "output_type": "execute_result"
    }
   ],
   "source": [
    "Best_Movies"
   ]
  },
  {
   "cell_type": "code",
   "execution_count": 112,
   "metadata": {
    "collapsed": true
   },
   "outputs": [],
   "source": [
    "Best_Movies.to_csv(\"Top_IBM_Rating.csv\", index=False)"
   ]
  }
 ],
 "metadata": {
  "kernelspec": {
   "display_name": "Python 3",
   "language": "python",
   "name": "python3"
  },
  "language_info": {
   "codemirror_mode": {
    "name": "ipython",
    "version": 3
   },
   "file_extension": ".py",
   "mimetype": "text/x-python",
   "name": "python",
   "nbconvert_exporter": "python",
   "pygments_lexer": "ipython3",
   "version": "3.6.2"
  }
 },
 "nbformat": 4,
 "nbformat_minor": 2
}
